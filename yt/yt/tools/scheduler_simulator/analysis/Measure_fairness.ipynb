{
 "cells": [
  {
   "cell_type": "code",
   "execution_count": null,
   "metadata": {},
   "outputs": [],
   "source": [
    "import numpy as np\n",
    "import pandas as pd\n",
    "import pylab as pl\n",
    "import matplotlib.pyplot as plt"
   ]
  },
  {
   "cell_type": "code",
   "execution_count": null,
   "metadata": {},
   "outputs": [],
   "source": [
    "%load_ext autoreload\n",
    "%autoreload 1\n",
    "%aimport measure_fairness\n",
    "\n",
    "import measure_fairness as fs"
   ]
  },
  {
   "cell_type": "code",
   "execution_count": null,
   "metadata": {},
   "outputs": [],
   "source": [
    "from os import environ\n",
    "data_dir = environ.get('data_dir', 'history/2015-03-18/min_share_tolerance/data/')\n",
    "target = environ.get('target', 'operations')"
   ]
  },
  {
   "cell_type": "code",
   "execution_count": null,
   "metadata": {},
   "outputs": [],
   "source": [
    "print(\"Data dir: {}\".format(data_dir))\n",
    "print(\"Target: {}\".format(target))"
   ]
  },
  {
   "cell_type": "code",
   "execution_count": null,
   "metadata": {},
   "outputs": [],
   "source": [
    "usage, fair_share, demand = fs.load_data(data_dir, target)"
   ]
  },
  {
   "cell_type": "code",
   "execution_count": null,
   "metadata": {},
   "outputs": [],
   "source": [
    "T = 7500\n",
    "\n",
    "pools_usage = fs.get_pools_aggregation(usage[:T])\n",
    "pools_fair_share = fs.get_pools_aggregation(fair_share[:T])\n",
    "pools_delay = fs.get_pools_aggregated_delay(usage[:T], fair_share[:T])\n",
    "\n",
    "pools_window_delay_200 = fs.get_pools_aggregated_window_delay(usage[:T], fair_share[:T], 200)\n",
    "pools_window_delay_2000 = fs.get_pools_aggregated_window_delay(usage[:T], fair_share[:T], 2000)\n",
    "pools_window_demand_200 = fs.get_pools_window_aggregation(demand[:T], 200)\n",
    "pools_window_demand_2000 = fs.get_pools_window_aggregation(demand[:T], 2000)"
   ]
  },
  {
   "cell_type": "code",
   "execution_count": null,
   "metadata": {},
   "outputs": [],
   "source": [
    "plt.plot(pools_usage, 'b')\n",
    "plt.plot(pools_fair_share, 'r')\n",
    "plt.show()\n",
    "\n",
    "print(\"Usage: {}\".format(np.mean(pools_usage)))\n",
    "print(\"Fair Share: {}\".format(np.mean(pools_fair_share)))"
   ]
  },
  {
   "cell_type": "code",
   "execution_count": null,
   "metadata": {},
   "outputs": [],
   "source": [
    "plt.plot(pools_delay)\n",
    "plt.show()\n",
    "print(\"Mean delay: {}\".format(np.mean(pools_delay)))"
   ]
  },
  {
   "cell_type": "code",
   "execution_count": null,
   "metadata": {},
   "outputs": [],
   "source": [
    "print(\"Window size: {}\".format(200))\n",
    "print(\"Mean delay: {}\".format(np.mean(pools_window_delay_200)))\n",
    "plt.plot(pools_window_delay_200)\n",
    "plt.show()\n",
    "plt.plot(pools_window_demand_200)\n",
    "plt.show()"
   ]
  },
  {
   "cell_type": "code",
   "execution_count": null,
   "metadata": {},
   "outputs": [],
   "source": [
    "print(\"Window size: {}\".format(2000))\n",
    "print(\"Mean delay: {}\".format(np.mean(pools_window_delay_2000)))\n",
    "plt.plot(pools_window_delay_2000)\n",
    "plt.show()\n",
    "plt.plot(pools_window_demand_2000)\n",
    "plt.show()"
   ]
  },
  {
   "cell_type": "code",
   "execution_count": null,
   "metadata": {},
   "outputs": [],
   "source": [
    "aggregated_usage = fs.aggregate(usage[:T])\n",
    "print(\"Aggregated usage: {}\".format(sum(aggregated_usage.values())))\n",
    "\n",
    "aggregated_fair_share = fs.aggregate(fair_share[:T])\n",
    "print(\"Aggregated fair_share: {}\".format(sum(aggregated_fair_share.values())))\n",
    "\n",
    "zero_fs_pools = set()\n",
    "for pool in aggregated_fair_share:\n",
    "    if abs(aggregated_fair_share[pool]) < 1e-9:\n",
    "        zero_fs_pools.add(pool)\n",
    "        \n",
    "aggregated_satisfaction = {pool:(aggregated_usage[pool] + 1e-9) / (aggregated_fair_share[pool] + 1e-9) \n",
    "                           for pool in aggregated_fair_share.keys() if pool not in zero_fs_pools}\n",
    "print(\"Aggregated satisfaction: {}\".format(sum(aggregated_satisfaction.values())))"
   ]
  },
  {
   "cell_type": "code",
   "execution_count": null,
   "metadata": {},
   "outputs": [],
   "source": [
    "fs.plot_satisfaction_histogram(aggregated_satisfaction, aggregated_usage)"
   ]
  },
  {
   "cell_type": "code",
   "execution_count": null,
   "metadata": {},
   "outputs": [],
   "source": [
    "sorted_satisfaction = sorted(aggregated_satisfaction.items(), key = lambda x: x[1], reverse=True)\n",
    "\n",
    "satisfied = sorted_satisfaction[:10]\n",
    "underserved = sorted_satisfaction[-10:]\n",
    "\n",
    "print(\"\\nSatisfied:\")\n",
    "for name, value in satisfied:\n",
    "    usage_val = aggregated_usage[name]\n",
    "    fair_share_val = aggregated_fair_share[name]\n",
    "    print(\"{:10}: {}, usage: {}, fair_share: {}\".format(name, value, usage_val, fair_share_val))\n",
    "\n",
    "print(\"\\nUnderserved:\")\n",
    "for name, value in underserved:\n",
    "    usage_val = aggregated_usage[name]\n",
    "    fair_share_val = aggregated_fair_share[name]\n",
    "    print(\"{:10}: {}, usage: {}, fair_share: {}\".format(name, value, usage_val, fair_share_val))"
   ]
  },
  {
   "cell_type": "code",
   "execution_count": null,
   "metadata": {},
   "outputs": [],
   "source": [
    "from six import iteritems\n",
    "for name, usage_val in iteritems(aggregated_usage):\n",
    "    if name in zero_fs_pools:\n",
    "        continue\n",
    "        \n",
    "    fair_share_val = aggregated_fair_share[name]\n",
    "    satisfaction_val = aggregated_satisfaction[name]\n",
    "    if (usage_val > 1000 and satisfaction_val > 1.2):\n",
    "        print(\"{:10}: {}, usage: {}, fair_share: {}\"\n",
    "                .format(name, satisfaction_val, usage_val, fair_share_val))"
   ]
  },
  {
   "cell_type": "code",
   "execution_count": null,
   "metadata": {},
   "outputs": [],
   "source": [
    "from six import iteritems\n",
    "usage_threshold = 0.1\n",
    "\n",
    "filtered_satisfaction = {name: value for name, value in iteritems(aggregated_satisfaction)\n",
    "                         if aggregated_usage[name] < usage_threshold}\n",
    "\n",
    "total_count = len(filtered_satisfaction)\n",
    "for tolerance in np.linspace(0.1, 1.0, 10):\n",
    "    count = fs.get_underserved_number(filtered_satisfaction, tolerance)\n",
    "    print(\"tolerance: {}, underserved_fraction: {}/{}\".format(tolerance, count, total_count))"
   ]
  },
  {
   "cell_type": "code",
   "execution_count": null,
   "metadata": {},
   "outputs": [],
   "source": [
    "underserved_periods = fs.get_pools_underserved_periods(usage[:T], fair_share[:T], 0.9)"
   ]
  },
  {
   "cell_type": "code",
   "execution_count": null,
   "metadata": {},
   "outputs": [],
   "source": [
    "filtered_periods = fs.filter_periods(underserved_periods, 60)\n",
    "for pool in filtered_periods:\n",
    "    print(\"{}: {}\".format(pool, filtered_periods[pool]))"
   ]
  },
  {
   "cell_type": "code",
   "execution_count": null,
   "metadata": {},
   "outputs": [],
   "source": [
    "total_underserved_penalty = fs.weighted_penalty_for_underserved(2, underserved_periods)\n",
    "print(\"Total underserved penalty: {}\".format(total_underserved_penalty))"
   ]
  },
  {
   "cell_type": "code",
   "execution_count": null,
   "metadata": {},
   "outputs": [],
   "source": [
    "total_sum = 0\n",
    "count = 0\n",
    "for lst in underserved_periods.values():\n",
    "    count += len(lst)\n",
    "    total_sum += sum(lst)\n",
    "print(\"Total underserved duration: {}\".format(total_sum))"
   ]
  },
  {
   "cell_type": "code",
   "execution_count": null,
   "metadata": {},
   "outputs": [],
   "source": []
  }
 ],
 "metadata": {
  "kernelspec": {
   "display_name": "Python 3",
   "language": "python",
   "name": "python3"
  },
  "language_info": {
   "codemirror_mode": {
    "name": "ipython",
    "version": 3
   },
   "file_extension": ".py",
   "mimetype": "text/x-python",
   "name": "python",
   "nbconvert_exporter": "python",
   "pygments_lexer": "ipython3",
   "version": "3.4.3+"
  }
 },
 "nbformat": 4,
 "nbformat_minor": 1
}
