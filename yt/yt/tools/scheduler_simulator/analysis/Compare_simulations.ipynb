{
 "cells": [
  {
   "cell_type": "code",
   "execution_count": null,
   "metadata": {},
   "outputs": [],
   "source": [
    "import numpy as np\n",
    "import pandas as pd\n",
    "import pylab as pl\n",
    "import matplotlib.pyplot as plt\n",
    "import os"
   ]
  },
  {
   "cell_type": "code",
   "execution_count": null,
   "metadata": {},
   "outputs": [],
   "source": [
    "%load_ext autoreload\n",
    "%autoreload 1\n",
    "%aimport analyze_simulation\n",
    "\n",
    "import analyze_simulation as tools"
   ]
  },
  {
   "cell_type": "code",
   "execution_count": null,
   "metadata": {},
   "outputs": [],
   "source": [
    "experiments = {\n",
    "    \"experimental\": \"history/hahn/run_2018-09-26_12-32/data\",\n",
    "    \"stable\": \"history/hahn/run_2018-09-22_11-28/data\",\n",
    "    \"production-experimental\": \"history/hahn/production-experimental/data\",\n",
    "    \"production-stable\": \"history/hahn/production-stable/data\",\n",
    "}"
   ]
  },
  {
   "cell_type": "code",
   "execution_count": null,
   "metadata": {},
   "outputs": [],
   "source": [
    "operations = {}\n",
    "operations_filtered = {}\n",
    "for name, data_dir in experiments.items():\n",
    "    operations[name] = pd.read_csv(os.path.join(data_dir, 'operations_stats.csv'))\n",
    "    tools.preprocess_operations(operations[name])\n",
    "\n",
    "    max_time = max(operations[name]['finish_time'] / 60.0 / 60.0)\n",
    "    print(\"{0}: Max finish time (unfiltered): {1:.3f}h\".format(name, max_time))\n",
    "    \n",
    "    start_time_threshold = 0\n",
    "    end_time_threshold = 1e9\n",
    "    # start_time_threshold = 60 * 60 * 2\n",
    "    # end_time_threshold = 60 * 60 * 10\n",
    "\n",
    "    operations_filtered[name] = tools.time_filter(operations[name], start_time_threshold, end_time_threshold)"
   ]
  },
  {
   "cell_type": "code",
   "execution_count": null,
   "metadata": {},
   "outputs": [],
   "source": [
    "for name, operations in operations_filtered.items():\n",
    "    for percentile, finish_time in tools.get_finish_time_percentiles(operations):\n",
    "        print(\"{}: {}% finish time: {:.3f}h\".format(name, percentile, finish_time / 60.0 / 60.0))\n",
    "    print()"
   ]
  },
  {
   "cell_type": "code",
   "execution_count": null,
   "metadata": {},
   "outputs": [],
   "source": [
    "import matplotlib.pyplot as plt\n",
    "\n",
    "from bisect import bisect_left\n",
    "\n",
    "class discrete_cdf:\n",
    "    def __init__(self, data):\n",
    "        self._data = sorted(data) # must be sorted\n",
    "        self._data_len = float(len(data))\n",
    "\n",
    "    def __call__(self, point):\n",
    "        return (len(self._data[:bisect_left(self._data, point)]) / self._data_len)\n",
    "\n",
    "def plot_cdf(data, label):\n",
    "    cdf = discrete_cdf(data.values)\n",
    "    xvalues = np.arange(0, max(data))\n",
    "    yvalues = [cdf(point) for point in xvalues]\n",
    "    return plt.plot(xvalues, yvalues, label=label)\n",
    "\n",
    "plt.figure(figsize=(18, 8))\n",
    "plt.xscale('log')\n",
    "plt.xlabel('duration', size=14)\n",
    "plt.ylabel('CDF', size=14)\n",
    "plt.grid()\n",
    "\n",
    "for name, ops in operations_filtered.items():\n",
    "    simulator_cdf = plot_cdf(ops[\"finish_time\"] - ops[\"start_time\"], name)\n",
    "\n",
    "plt.legend(loc='upper left', prop={'size':16})\n",
    "plt.show()"
   ]
  },
  {
   "cell_type": "code",
   "execution_count": null,
   "metadata": {},
   "outputs": [],
   "source": []
  }
 ],
 "metadata": {
  "kernelspec": {
   "display_name": "Python 3",
   "language": "python",
   "name": "python3"
  },
  "language_info": {
   "codemirror_mode": {
    "name": "ipython",
    "version": 3
   },
   "file_extension": ".py",
   "mimetype": "text/x-python",
   "name": "python",
   "nbconvert_exporter": "python",
   "pygments_lexer": "ipython3",
   "version": "3.6.4"
  }
 },
 "nbformat": 4,
 "nbformat_minor": 2
}
