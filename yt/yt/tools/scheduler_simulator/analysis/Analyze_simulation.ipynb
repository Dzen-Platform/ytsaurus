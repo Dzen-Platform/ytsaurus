{
 "cells": [
  {
   "cell_type": "code",
   "execution_count": null,
   "metadata": {},
   "outputs": [],
   "source": [
    "import numpy as np\n",
    "import pandas as pd\n",
    "import pylab as pl\n",
    "import matplotlib\n",
    "import matplotlib.pyplot as plt\n",
    "\n",
    "from functools import partial\n",
    "from datetime import timedelta"
   ]
  },
  {
   "cell_type": "code",
   "execution_count": null,
   "metadata": {},
   "outputs": [],
   "source": [
    "%load_ext autoreload\n",
    "%autoreload 1\n",
    "%aimport analyze_simulation\n",
    "\n",
    "import analyze_simulation as tools"
   ]
  },
  {
   "cell_type": "code",
   "execution_count": null,
   "metadata": {},
   "outputs": [],
   "source": [
    "from os import environ, path\n",
    "\n",
    "data_dir = environ.get('data_dir', 'data')\n",
    "print(\"Data dir: {}\".format(data_dir))"
   ]
  },
  {
   "cell_type": "code",
   "execution_count": null,
   "metadata": {},
   "outputs": [],
   "source": [
    "operations = pd.read_csv(path.join(data_dir, 'operations_stats.csv'))\n",
    "\n",
    "tools.preprocess_operations(operations)\n",
    "\n",
    "max_time = max(operations['finish_time'] / 60.0 / 60.0)\n",
    "print(\"Max finish time (unfiltered): {0:.3f}h\".format(max_time))"
   ]
  },
  {
   "cell_type": "code",
   "execution_count": null,
   "metadata": {},
   "outputs": [],
   "source": [
    "print(operations.shape)\n",
    "\n",
    "print(\"Total preempted jobs: {:,}\". format(operations['preempted_job_count'].sum()))\n",
    "print(\"Total jobs: {:,}\". format(operations['job_count'].sum()))\n",
    "print(\"Total preempted duration: {}s\". format(operations['preempted_jobs_total_duration'].sum()))\n",
    "print(\"Total jobs duration: {}s\". format(operations['jobs_total_duration'].sum()))\n",
    "# operations.head()"
   ]
  },
  {
   "cell_type": "code",
   "execution_count": null,
   "metadata": {},
   "outputs": [],
   "source": [
    "start_time_threshold = 0\n",
    "end_time_threshold = 1e9\n",
    "# start_time_threshold = 60 * 60 * 2\n",
    "# end_time_threshold = 60 * 60 * 10\n",
    "\n",
    "operations_filtered = tools.time_filter(operations, start_time_threshold, end_time_threshold)"
   ]
  },
  {
   "cell_type": "code",
   "execution_count": null,
   "metadata": {},
   "outputs": [],
   "source": [
    "for percentile, finish_time in tools.get_finish_time_percentiles(operations_filtered):\n",
    "        print(\"{}% finish time: {:.3f}h\".format(percentile, finish_time / 60.0 / 60.0))"
   ]
  },
  {
   "cell_type": "code",
   "execution_count": null,
   "metadata": {},
   "outputs": [],
   "source": [
    "(history, min_time, max_time) = tools.build_load_history(operations_filtered)\n",
    "plt.plot(range(min_time, max_time + 1), history)"
   ]
  },
  {
   "cell_type": "code",
   "execution_count": null,
   "metadata": {},
   "outputs": [],
   "source": [
    "ranges = np.logspace(0, 5, 6)\n",
    "tools.plot_job_count_distribution(ranges, operations_filtered)"
   ]
  },
  {
   "cell_type": "code",
   "execution_count": null,
   "metadata": {},
   "outputs": [],
   "source": [
    "tools.plot_differences(operations_filtered, weighted=True)"
   ]
  },
  {
   "cell_type": "code",
   "execution_count": null,
   "metadata": {},
   "outputs": [],
   "source": [
    "bins = tools.split_into_bins(operations_filtered, operations_filtered['job_count'], ranges)\n",
    "\n",
    "for i in range(len(ranges)):\n",
    "    left_bound = ranges[i]\n",
    "    right_bound = np.inf if i + 1 >= len(ranges) else ranges[i + 1]\n",
    "    print(\"Range: [{}, {}]\".format(left_bound, right_bound))\n",
    "    tools.plot_differences(bins[i])"
   ]
  },
  {
   "cell_type": "code",
   "execution_count": null,
   "metadata": {},
   "outputs": [],
   "source": [
    "tools.find_suspicious_operations(operations_filtered, 1000)"
   ]
  },
  {
   "cell_type": "code",
   "execution_count": null,
   "metadata": {
    "scrolled": true
   },
   "outputs": [],
   "source": [
    "import matplotlib.pyplot as plt\n",
    "\n",
    "from bisect import bisect_left\n",
    "\n",
    "class discrete_cdf:\n",
    "    def __init__(self, data):\n",
    "        self._data = sorted(data) # must be sorted\n",
    "        self._data_len = float(len(data))\n",
    "\n",
    "    def __call__(self, point):\n",
    "        return (len(self._data[:bisect_left(self._data, point)]) / self._data_len)\n",
    "\n",
    "def plot_cdf(data, color, label):\n",
    "    cdf = discrete_cdf(data.values)\n",
    "    xvalues = np.arange(0, max(data))\n",
    "    yvalues = [cdf(point) for point in xvalues]\n",
    "    return plt.plot(xvalues, yvalues, color, label=label)\n",
    "\n",
    "plt.figure(figsize=(18, 8))\n",
    "plt.xscale('log')\n",
    "plt.xlabel('duration', size=14)\n",
    "plt.ylabel('CDF', size=14)\n",
    "plt.grid()\n",
    "real_cdf = plot_cdf(operations_filtered[\"real_duration\"], \"b\", \"real\")\n",
    "simulator_cdf = plot_cdf(operations_filtered[\"finish_time\"] - operations_filtered[\"start_time\"], \"r\", \"simulator\")\n",
    "\n",
    "plt.legend(loc='upper left', prop={'size':16})\n",
    "plt.show()"
   ]
  },
  {
   "cell_type": "markdown",
   "metadata": {},
   "source": [
    "# Измерение утилизации ресурсов за все время симуляции"
   ]
  },
  {
   "cell_type": "code",
   "execution_count": null,
   "metadata": {
    "scrolled": false
   },
   "outputs": [],
   "source": [
    "import ujson as json\n",
    "\n",
    "utilization_data = pd.DataFrame.from_records(map(json.loads, open(path.join(data_dir, \"cluster_utilization.json\"))))\n",
    "utilization_data[\"timestamp\"] = utilization_data[\"timestamp\"].map(tools.parse_timestamp)\n",
    "\n",
    "earliest_time = utilization_data[\"timestamp\"].min()\n",
    "latest_time = utilization_data[\"timestamp\"].max()\n",
    "\n",
    "def get_utilization_slice(time_begin=earliest_time, time_end=latest_time):\n",
    "    return utilization_data.query(\"@time_begin <= timestamp <= @time_end\")\n",
    "\n",
    "def get_resource_usage(data, resource):\n",
    "    return data[\"resource_usage\"].map(lambda row: row[resource])\n",
    "\n",
    "def get_resource_limits(data, resource):\n",
    "    return data[\"resource_limits\"].map(lambda row: row[resource])\n",
    "\n",
    "def plot_resource_info(resource, ax, time_begin=earliest_time, time_end=latest_time):\n",
    "    data = get_utilization_slice(time_begin, time_end)\n",
    "    \n",
    "    usage = get_resource_usage(data, resource)\n",
    "    limits = get_resource_limits(data, resource)\n",
    "    max_value = limits.max()\n",
    "    \n",
    "    plt.title(\"{} utilization (max_value={})\".format(resource, max_value))\n",
    "    plt.xlabel(\"time\")\n",
    "    plt.ylabel(resource)\n",
    "    plt.ylim(-0.1, 1.1)\n",
    "    \n",
    "    plt.plot(data[\"timestamp\"], usage / max_value, \"blue\")\n",
    "    plt.plot(data[\"timestamp\"], limits / max_value, \"orange\")\n",
    "\n",
    "    ax.xaxis.set_major_formatter(matplotlib.dates.DateFormatter(\"%H:%M\"))"
   ]
  },
  {
   "cell_type": "code",
   "execution_count": null,
   "metadata": {
    "scrolled": true
   },
   "outputs": [],
   "source": [
    "fig = plt.figure(figsize=(16, 12))\n",
    "\n",
    "plot_resource_info(\"cpu\", plt.subplot(3, 2, 1))\n",
    "plot_resource_info(\"user_memory\", plt.subplot(3, 2, 2))\n",
    "plot_resource_info(\"user_slots\", plt.subplot(3, 2, 3))\n",
    "plot_resource_info(\"memory\", plt.subplot(3, 2, 4))\n",
    "plot_resource_info(\"network\", plt.subplot(3, 2, 5))\n",
    "\n",
    "plt.tight_layout()\n",
    "plt.show()"
   ]
  },
  {
   "cell_type": "markdown",
   "metadata": {},
   "source": [
    "Числа, привиденные ниже -- это главным образом интегралы утилизации кластера.\n",
    "\n",
    "Заметим, что, если не учитывать preeption, эти площади должны быть примерно равны вне зависимости от стратегии симулятора. Следовательно, они не могут быть использованы для оценки качества упаковки."
   ]
  },
  {
   "cell_type": "code",
   "execution_count": null,
   "metadata": {
    "scrolled": true
   },
   "outputs": [],
   "source": [
    "def print_utilization_integrals(data):\n",
    "    timesteps_in_seconds = (data[\"timestamp\"] - data[\"timestamp\"].min()).map(lambda x: x.total_seconds())\n",
    "\n",
    "    print(\"Total cpu usage: {:.0f} cpu * second\".format(\n",
    "        np.trapz(get_resource_usage(data, \"cpu\"), timesteps_in_seconds)))\n",
    "\n",
    "    print(\"Total user_memory usage: {:.0f} GiB * second\".format(\n",
    "        np.trapz(get_resource_usage(data, \"user_memory\") / (1024 ** 3), timesteps_in_seconds)))\n",
    "\n",
    "    print(\"Total network usage: {:.0f} slots * second\".format(\n",
    "        np.trapz(get_resource_usage(data, \"network\"), timesteps_in_seconds)))\n",
    "\n",
    "    print(\"Total user_slots usage: {:.0f} slots * second\".format(\n",
    "        np.trapz(get_resource_usage(data, \"user_slots\"), timesteps_in_seconds)))\n",
    "\n",
    "    print(\"Total user_slots usage w/o preemption: {:.0f} slots * second\".format(\n",
    "        (operations[\"jobs_total_duration\"] - operations[\"preempted_jobs_total_duration\"]).sum()))\n",
    "\n",
    "    print(\"Preempted total user_slots usage: {:.0f} slots * second\".format(\n",
    "        operations[\"preempted_jobs_total_duration\"].sum()))"
   ]
  },
  {
   "cell_type": "code",
   "execution_count": null,
   "metadata": {},
   "outputs": [],
   "source": [
    "print_utilization_integrals(utilization_data)"
   ]
  },
  {
   "cell_type": "markdown",
   "metadata": {},
   "source": [
    "# Utilization breakdown"
   ]
  },
  {
   "cell_type": "code",
   "execution_count": null,
   "metadata": {},
   "outputs": [],
   "source": [
    "# Make sure that `$YT_SOURCE/python` is in your PYTHONPATH\n",
    "from yt.scheduler_tools import scheduler_utilization\n",
    "# Make sure that `ya-build` with compiled python3 yson bindings is in your PYTHONPATH\n",
    "from yt import yson\n",
    "\n",
    "assert yson.TYPE == \"BINARY\""
   ]
  },
  {
   "cell_type": "code",
   "execution_count": null,
   "metadata": {},
   "outputs": [],
   "source": [
    "import os\n",
    "\n",
    "event_log = \"scheduler_event_log.txt\"\n",
    "assert os.path.isfile(event_log)"
   ]
  },
  {
   "cell_type": "code",
   "execution_count": null,
   "metadata": {},
   "outputs": [],
   "source": [
    "%%time\n",
    "utilization_info = []\n",
    "for entry in yson.load(open(event_log, \"rb\"), \"list_fragment\"):\n",
    "    if entry[\"event_type\"] != \"nodes_info\":\n",
    "        continue\n",
    "    entry[\"nodes\"]\n",
    "    timestamp = tools.parse_timestamp(entry[\"timestamp\"])\n",
    "    nodes = entry[\"nodes\"]\n",
    "    utilization_info.append({\n",
    "        \"timestamp\": timestamp,\n",
    "        \"cpu\": scheduler_utilization.get_cpu_stats(nodes).as_dict(),\n",
    "        \"user_memory\": scheduler_utilization.get_memory_stats(nodes).as_dict(),\n",
    "    })"
   ]
  },
  {
   "cell_type": "code",
   "execution_count": null,
   "metadata": {},
   "outputs": [],
   "source": [
    "%%time\n",
    "utilization_info.sort(key=lambda x: x[\"timestamp\"])\n",
    "utilization_df = pd.DataFrame.from_records(utilization_info)"
   ]
  },
  {
   "cell_type": "code",
   "execution_count": null,
   "metadata": {},
   "outputs": [],
   "source": [
    "display(pd.DataFrame.from_records(utilization_df[\"cpu\"]).head())"
   ]
  },
  {
   "cell_type": "code",
   "execution_count": null,
   "metadata": {},
   "outputs": [],
   "source": [
    "def plot_resource_utilization(resource, ax):\n",
    "    timestamps = np.array(utilization_df[\"timestamp\"], dtype=np.datetime64)\n",
    "    data = pd.DataFrame.from_records(utilization_df[resource])\n",
    "    if resource == \"user_memory\":\n",
    "        gib = 1024**3\n",
    "        data = data / gib\n",
    "\n",
    "    max_value = np.max(data[\"available_limit\"])\n",
    "    data = data / max_value\n",
    "    \n",
    "    plt.title(\"{} utilization (max_value={})\".format(resource, max_value))\n",
    "    plt.xlabel(\"time\")\n",
    "    plt.ylabel(resource)\n",
    "    plt.ylim(-0.1, 1.1)\n",
    "\n",
    "    ax.plot(timestamps, data[\"available_limit\"])\n",
    "    ax.stackplot(timestamps,\n",
    "                 data[\"fragmented\"],\n",
    "                 data[\"allocatable\"],\n",
    "                 data[\"unclaimed\"],\n",
    "                 data[\"used\"],\n",
    "                 data[\"not_schedulable\"],\n",
    "                 data[\"limit_on_invalid_nodes\"],\n",
    "                 labels=[\n",
    "                    \"fragmented\",\n",
    "                    \"allocatable\",\n",
    "                    \"unclaimed\",\n",
    "                    \"used\",\n",
    "                    \"not_schedulable\",\n",
    "                    \"limit_on_invalid_nodes\",\n",
    "                ],\n",
    "                colors=[\n",
    "                    \"orange\",\n",
    "                    \"lime\",\n",
    "                    \"blue\",\n",
    "                    \"yellow\",\n",
    "                    \"red\",\n",
    "                    \"black\",\n",
    "                ])\n",
    "    ax.legend(loc='upper left')\n",
    "    ax.xaxis.set_major_formatter(matplotlib.dates.DateFormatter(\"%H:%M\"))"
   ]
  },
  {
   "cell_type": "code",
   "execution_count": null,
   "metadata": {},
   "outputs": [],
   "source": [
    "fig = plt.figure(figsize=(16, 12))\n",
    "plot_resource_utilization(\"cpu\", plt.subplot(2, 1, 1))\n",
    "plot_resource_utilization(\"user_memory\", plt.subplot(2, 1, 2))\n",
    "plt.show()"
   ]
  },
  {
   "cell_type": "code",
   "execution_count": null,
   "metadata": {},
   "outputs": [],
   "source": []
  },
  {
   "cell_type": "code",
   "execution_count": null,
   "metadata": {},
   "outputs": [],
   "source": []
  }
 ],
 "metadata": {
  "kernelspec": {
   "display_name": "Python 3",
   "language": "python",
   "name": "python3"
  },
  "language_info": {
   "codemirror_mode": {
    "name": "ipython",
    "version": 3
   },
   "file_extension": ".py",
   "mimetype": "text/x-python",
   "name": "python",
   "nbconvert_exporter": "python",
   "pygments_lexer": "ipython3",
   "version": "3.6.4"
  }
 },
 "nbformat": 4,
 "nbformat_minor": 1
}
